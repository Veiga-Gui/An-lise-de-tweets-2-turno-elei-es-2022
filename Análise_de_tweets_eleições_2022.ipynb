{
  "nbformat": 4,
  "nbformat_minor": 0,
  "metadata": {
    "colab": {
      "provenance": [],
      "authorship_tag": "ABX9TyPzvi25nbTuMZcPKrae1vWK",
      "include_colab_link": true
    },
    "kernelspec": {
      "name": "python3",
      "display_name": "Python 3"
    },
    "language_info": {
      "name": "python"
    }
  },
  "cells": [
    {
      "cell_type": "markdown",
      "metadata": {
        "id": "view-in-github",
        "colab_type": "text"
      },
      "source": [
        "<a href=\"https://colab.research.google.com/github/Veiga-Gui/Analise-de-tweets-2-turno-eleices-2022/blob/main/An%C3%A1lise_de_tweets_elei%C3%A7%C3%B5es_2022.ipynb\" target=\"_parent\"><img src=\"https://colab.research.google.com/assets/colab-badge.svg\" alt=\"Open In Colab\"/></a>"
      ]
    },
    {
      "cell_type": "code",
      "execution_count": 49,
      "metadata": {
        "colab": {
          "base_uri": "https://localhost:8080/"
        },
        "id": "qOhouv4aTIjK",
        "outputId": "7fabe217-168d-4b0c-9108-baaa39b1b7b3"
      },
      "outputs": [
        {
          "output_type": "stream",
          "name": "stdout",
          "text": [
            "Looking in indexes: https://pypi.org/simple, https://us-python.pkg.dev/colab-wheels/public/simple/\n",
            "Requirement already satisfied: snscrape in /usr/local/lib/python3.7/dist-packages (0.3.4)\n",
            "Requirement already satisfied: requests[socks] in /usr/local/lib/python3.7/dist-packages (from snscrape) (2.23.0)\n",
            "Requirement already satisfied: beautifulsoup4 in /usr/local/lib/python3.7/dist-packages (from snscrape) (4.6.3)\n",
            "Requirement already satisfied: lxml in /usr/local/lib/python3.7/dist-packages (from snscrape) (4.9.1)\n",
            "Requirement already satisfied: certifi>=2017.4.17 in /usr/local/lib/python3.7/dist-packages (from requests[socks]->snscrape) (2022.9.24)\n",
            "Requirement already satisfied: urllib3!=1.25.0,!=1.25.1,<1.26,>=1.21.1 in /usr/local/lib/python3.7/dist-packages (from requests[socks]->snscrape) (1.24.3)\n",
            "Requirement already satisfied: chardet<4,>=3.0.2 in /usr/local/lib/python3.7/dist-packages (from requests[socks]->snscrape) (3.0.4)\n",
            "Requirement already satisfied: idna<3,>=2.5 in /usr/local/lib/python3.7/dist-packages (from requests[socks]->snscrape) (2.10)\n",
            "Requirement already satisfied: PySocks!=1.5.7,>=1.5.6 in /usr/local/lib/python3.7/dist-packages (from requests[socks]->snscrape) (1.7.1)\n"
          ]
        }
      ],
      "source": [
        "!pip install snscrape"
      ]
    },
    {
      "cell_type": "code",
      "source": [
        "import snscrape.modules.twitter as sntwitter\n",
        "import pandas as pd"
      ],
      "metadata": {
        "id": "KbjALu0-TkVv"
      },
      "execution_count": 50,
      "outputs": []
    },
    {
      "cell_type": "code",
      "source": [
        "maxTweets = 100\n",
        "i = 0\n",
        "tweets_list = []\n",
        "for tweet in sntwitter.TwitterSearchScraper('from:onyxlorenzoni since:2022-10-01 until:2022-10-30').get_items():\n",
        "  if i > maxTweets:\n",
        "    break\n",
        "  tweets_list.append([tweet.date, tweet.url, tweet.username, tweet.content])\n",
        "  i = i + 1"
      ],
      "metadata": {
        "id": "eQ9wwK8PW2ov"
      },
      "execution_count": 51,
      "outputs": []
    },
    {
      "cell_type": "code",
      "source": [
        "tweets_df = pd.DataFrame(tweets_list, columns=['date', 'url','username', 'content'])\n",
        "tweets_df"
      ],
      "metadata": {
        "colab": {
          "base_uri": "https://localhost:8080/",
          "height": 424
        },
        "id": "wJvygn29V9nf",
        "outputId": "25dfd0f9-4551-46ac-cbe3-934accd8e929"
      },
      "execution_count": 52,
      "outputs": [
        {
          "output_type": "execute_result",
          "data": {
            "text/plain": [
              "                         date  \\\n",
              "0   2022-10-29 21:12:23+00:00   \n",
              "1   2022-10-29 20:46:51+00:00   \n",
              "2   2022-10-29 16:00:36+00:00   \n",
              "3   2022-10-29 15:26:22+00:00   \n",
              "4   2022-10-29 13:37:48+00:00   \n",
              "..                        ...   \n",
              "96  2022-10-14 16:11:01+00:00   \n",
              "97  2022-10-14 16:11:01+00:00   \n",
              "98  2022-10-14 14:07:01+00:00   \n",
              "99  2022-10-13 21:56:02+00:00   \n",
              "100 2022-10-12 19:29:45+00:00   \n",
              "\n",
              "                                                   url       username  \\\n",
              "0    https://twitter.com/onyxlorenzoni/status/15864...  onyxlorenzoni   \n",
              "1    https://twitter.com/onyxlorenzoni/status/15864...  onyxlorenzoni   \n",
              "2    https://twitter.com/onyxlorenzoni/status/15863...  onyxlorenzoni   \n",
              "3    https://twitter.com/onyxlorenzoni/status/15863...  onyxlorenzoni   \n",
              "4    https://twitter.com/onyxlorenzoni/status/15863...  onyxlorenzoni   \n",
              "..                                                 ...            ...   \n",
              "96   https://twitter.com/onyxlorenzoni/status/15809...  onyxlorenzoni   \n",
              "97   https://twitter.com/onyxlorenzoni/status/15809...  onyxlorenzoni   \n",
              "98   https://twitter.com/onyxlorenzoni/status/15809...  onyxlorenzoni   \n",
              "99   https://twitter.com/onyxlorenzoni/status/15806...  onyxlorenzoni   \n",
              "100  https://twitter.com/onyxlorenzoni/status/15802...  onyxlorenzoni   \n",
              "\n",
              "                                               content  \n",
              "0    E o Parcão em verde amarelo? \\nFoi de arrepiar...  \n",
              "1    @nikolas_dm Obrigado, meu amigo!  #tamojunto. ...  \n",
              "2    Porto Alegre em verde-amarelo! \\nÉ 22 pelo bem...  \n",
              "3    Não é sobre garrafa térmica Eduardo. É sobre c...  \n",
              "4    No último debate, Eduardo Leite teve a cara de...  \n",
              "..                                                 ...  \n",
              "96   Na Casa Civil, comandei a histórica Reforma da...  \n",
              "97   O Brasil tem hoje o menor desemprego desde a h...  \n",
              "98                   @Rconstantino Obrigado Rodrigo.🇧🇷  \n",
              "99   Mais uma vez estão mentindo para o povo gaúcho...  \n",
              "100   Feliz Dias das Crianças! https://t.co/y78mhfRNN0  \n",
              "\n",
              "[101 rows x 4 columns]"
            ],
            "text/html": [
              "\n",
              "  <div id=\"df-4e523790-7efa-4b58-b248-ed38bdf1d1f9\">\n",
              "    <div class=\"colab-df-container\">\n",
              "      <div>\n",
              "<style scoped>\n",
              "    .dataframe tbody tr th:only-of-type {\n",
              "        vertical-align: middle;\n",
              "    }\n",
              "\n",
              "    .dataframe tbody tr th {\n",
              "        vertical-align: top;\n",
              "    }\n",
              "\n",
              "    .dataframe thead th {\n",
              "        text-align: right;\n",
              "    }\n",
              "</style>\n",
              "<table border=\"1\" class=\"dataframe\">\n",
              "  <thead>\n",
              "    <tr style=\"text-align: right;\">\n",
              "      <th></th>\n",
              "      <th>date</th>\n",
              "      <th>url</th>\n",
              "      <th>username</th>\n",
              "      <th>content</th>\n",
              "    </tr>\n",
              "  </thead>\n",
              "  <tbody>\n",
              "    <tr>\n",
              "      <th>0</th>\n",
              "      <td>2022-10-29 21:12:23+00:00</td>\n",
              "      <td>https://twitter.com/onyxlorenzoni/status/15864...</td>\n",
              "      <td>onyxlorenzoni</td>\n",
              "      <td>E o Parcão em verde amarelo? \\nFoi de arrepiar...</td>\n",
              "    </tr>\n",
              "    <tr>\n",
              "      <th>1</th>\n",
              "      <td>2022-10-29 20:46:51+00:00</td>\n",
              "      <td>https://twitter.com/onyxlorenzoni/status/15864...</td>\n",
              "      <td>onyxlorenzoni</td>\n",
              "      <td>@nikolas_dm Obrigado, meu amigo!  #tamojunto. ...</td>\n",
              "    </tr>\n",
              "    <tr>\n",
              "      <th>2</th>\n",
              "      <td>2022-10-29 16:00:36+00:00</td>\n",
              "      <td>https://twitter.com/onyxlorenzoni/status/15863...</td>\n",
              "      <td>onyxlorenzoni</td>\n",
              "      <td>Porto Alegre em verde-amarelo! \\nÉ 22 pelo bem...</td>\n",
              "    </tr>\n",
              "    <tr>\n",
              "      <th>3</th>\n",
              "      <td>2022-10-29 15:26:22+00:00</td>\n",
              "      <td>https://twitter.com/onyxlorenzoni/status/15863...</td>\n",
              "      <td>onyxlorenzoni</td>\n",
              "      <td>Não é sobre garrafa térmica Eduardo. É sobre c...</td>\n",
              "    </tr>\n",
              "    <tr>\n",
              "      <th>4</th>\n",
              "      <td>2022-10-29 13:37:48+00:00</td>\n",
              "      <td>https://twitter.com/onyxlorenzoni/status/15863...</td>\n",
              "      <td>onyxlorenzoni</td>\n",
              "      <td>No último debate, Eduardo Leite teve a cara de...</td>\n",
              "    </tr>\n",
              "    <tr>\n",
              "      <th>...</th>\n",
              "      <td>...</td>\n",
              "      <td>...</td>\n",
              "      <td>...</td>\n",
              "      <td>...</td>\n",
              "    </tr>\n",
              "    <tr>\n",
              "      <th>96</th>\n",
              "      <td>2022-10-14 16:11:01+00:00</td>\n",
              "      <td>https://twitter.com/onyxlorenzoni/status/15809...</td>\n",
              "      <td>onyxlorenzoni</td>\n",
              "      <td>Na Casa Civil, comandei a histórica Reforma da...</td>\n",
              "    </tr>\n",
              "    <tr>\n",
              "      <th>97</th>\n",
              "      <td>2022-10-14 16:11:01+00:00</td>\n",
              "      <td>https://twitter.com/onyxlorenzoni/status/15809...</td>\n",
              "      <td>onyxlorenzoni</td>\n",
              "      <td>O Brasil tem hoje o menor desemprego desde a h...</td>\n",
              "    </tr>\n",
              "    <tr>\n",
              "      <th>98</th>\n",
              "      <td>2022-10-14 14:07:01+00:00</td>\n",
              "      <td>https://twitter.com/onyxlorenzoni/status/15809...</td>\n",
              "      <td>onyxlorenzoni</td>\n",
              "      <td>@Rconstantino Obrigado Rodrigo.🇧🇷</td>\n",
              "    </tr>\n",
              "    <tr>\n",
              "      <th>99</th>\n",
              "      <td>2022-10-13 21:56:02+00:00</td>\n",
              "      <td>https://twitter.com/onyxlorenzoni/status/15806...</td>\n",
              "      <td>onyxlorenzoni</td>\n",
              "      <td>Mais uma vez estão mentindo para o povo gaúcho...</td>\n",
              "    </tr>\n",
              "    <tr>\n",
              "      <th>100</th>\n",
              "      <td>2022-10-12 19:29:45+00:00</td>\n",
              "      <td>https://twitter.com/onyxlorenzoni/status/15802...</td>\n",
              "      <td>onyxlorenzoni</td>\n",
              "      <td>Feliz Dias das Crianças! https://t.co/y78mhfRNN0</td>\n",
              "    </tr>\n",
              "  </tbody>\n",
              "</table>\n",
              "<p>101 rows × 4 columns</p>\n",
              "</div>\n",
              "      <button class=\"colab-df-convert\" onclick=\"convertToInteractive('df-4e523790-7efa-4b58-b248-ed38bdf1d1f9')\"\n",
              "              title=\"Convert this dataframe to an interactive table.\"\n",
              "              style=\"display:none;\">\n",
              "        \n",
              "  <svg xmlns=\"http://www.w3.org/2000/svg\" height=\"24px\"viewBox=\"0 0 24 24\"\n",
              "       width=\"24px\">\n",
              "    <path d=\"M0 0h24v24H0V0z\" fill=\"none\"/>\n",
              "    <path d=\"M18.56 5.44l.94 2.06.94-2.06 2.06-.94-2.06-.94-.94-2.06-.94 2.06-2.06.94zm-11 1L8.5 8.5l.94-2.06 2.06-.94-2.06-.94L8.5 2.5l-.94 2.06-2.06.94zm10 10l.94 2.06.94-2.06 2.06-.94-2.06-.94-.94-2.06-.94 2.06-2.06.94z\"/><path d=\"M17.41 7.96l-1.37-1.37c-.4-.4-.92-.59-1.43-.59-.52 0-1.04.2-1.43.59L10.3 9.45l-7.72 7.72c-.78.78-.78 2.05 0 2.83L4 21.41c.39.39.9.59 1.41.59.51 0 1.02-.2 1.41-.59l7.78-7.78 2.81-2.81c.8-.78.8-2.07 0-2.86zM5.41 20L4 18.59l7.72-7.72 1.47 1.35L5.41 20z\"/>\n",
              "  </svg>\n",
              "      </button>\n",
              "      \n",
              "  <style>\n",
              "    .colab-df-container {\n",
              "      display:flex;\n",
              "      flex-wrap:wrap;\n",
              "      gap: 12px;\n",
              "    }\n",
              "\n",
              "    .colab-df-convert {\n",
              "      background-color: #E8F0FE;\n",
              "      border: none;\n",
              "      border-radius: 50%;\n",
              "      cursor: pointer;\n",
              "      display: none;\n",
              "      fill: #1967D2;\n",
              "      height: 32px;\n",
              "      padding: 0 0 0 0;\n",
              "      width: 32px;\n",
              "    }\n",
              "\n",
              "    .colab-df-convert:hover {\n",
              "      background-color: #E2EBFA;\n",
              "      box-shadow: 0px 1px 2px rgba(60, 64, 67, 0.3), 0px 1px 3px 1px rgba(60, 64, 67, 0.15);\n",
              "      fill: #174EA6;\n",
              "    }\n",
              "\n",
              "    [theme=dark] .colab-df-convert {\n",
              "      background-color: #3B4455;\n",
              "      fill: #D2E3FC;\n",
              "    }\n",
              "\n",
              "    [theme=dark] .colab-df-convert:hover {\n",
              "      background-color: #434B5C;\n",
              "      box-shadow: 0px 1px 3px 1px rgba(0, 0, 0, 0.15);\n",
              "      filter: drop-shadow(0px 1px 2px rgba(0, 0, 0, 0.3));\n",
              "      fill: #FFFFFF;\n",
              "    }\n",
              "  </style>\n",
              "\n",
              "      <script>\n",
              "        const buttonEl =\n",
              "          document.querySelector('#df-4e523790-7efa-4b58-b248-ed38bdf1d1f9 button.colab-df-convert');\n",
              "        buttonEl.style.display =\n",
              "          google.colab.kernel.accessAllowed ? 'block' : 'none';\n",
              "\n",
              "        async function convertToInteractive(key) {\n",
              "          const element = document.querySelector('#df-4e523790-7efa-4b58-b248-ed38bdf1d1f9');\n",
              "          const dataTable =\n",
              "            await google.colab.kernel.invokeFunction('convertToInteractive',\n",
              "                                                     [key], {});\n",
              "          if (!dataTable) return;\n",
              "\n",
              "          const docLinkHtml = 'Like what you see? Visit the ' +\n",
              "            '<a target=\"_blank\" href=https://colab.research.google.com/notebooks/data_table.ipynb>data table notebook</a>'\n",
              "            + ' to learn more about interactive tables.';\n",
              "          element.innerHTML = '';\n",
              "          dataTable['output_type'] = 'display_data';\n",
              "          await google.colab.output.renderOutput(dataTable, element);\n",
              "          const docLink = document.createElement('div');\n",
              "          docLink.innerHTML = docLinkHtml;\n",
              "          element.appendChild(docLink);\n",
              "        }\n",
              "      </script>\n",
              "    </div>\n",
              "  </div>\n",
              "  "
            ]
          },
          "metadata": {},
          "execution_count": 52
        }
      ]
    },
    {
      "cell_type": "code",
      "source": [
        "tweets_df.to_csv()"
      ],
      "metadata": {
        "colab": {
          "base_uri": "https://localhost:8080/",
          "height": 93
        },
        "id": "uH7822_XWiqx",
        "outputId": "e9dcdad3-563d-4382-b689-49a9bd96e761"
      },
      "execution_count": 53,
      "outputs": [
        {
          "output_type": "execute_result",
          "data": {
            "text/plain": [
              "',date,url,username,content\\n0,2022-10-29 21:12:23+00:00,https://twitter.com/onyxlorenzoni/status/1586465999162744832,onyxlorenzoni,\"E o Parcão em verde amarelo? \\nFoi de arrepiar! Valeu, Porto Alegre! Pelo bem do Brasil, pra transformar o Rio Grande! \\n#Bolsonaro22 #Onyx22 https://t.co/J81FwKFF3x\"\\n1,2022-10-29 20:46:51+00:00,https://twitter.com/onyxlorenzoni/status/1586459570020683776,onyxlorenzoni,\"@nikolas_dm Obrigado, meu amigo!  #tamojunto. Tu vais ser decisivo pro Brasil na Câmara dos Deputados.\"\\n2,2022-10-29 16:00:36+00:00,https://twitter.com/onyxlorenzoni/status/1586387536381104129,onyxlorenzoni,\"Porto Alegre em verde-amarelo! \\nÉ 22 pelo bem do Brasil, é 22 pra transformar o Rio Grande!\\nObrigado pelo carinho! #tamojunto Porto Alegre! https://t.co/uaTZUymgid\"\\n3,2022-10-29 15:26:22+00:00,https://twitter.com/onyxlorenzoni/status/1586378919779131392,onyxlorenzoni,\"Não é sobre garrafa térmica Eduardo. É sobre cerceamento de liberdades com base em uma “ciência” que não adiantou nada, como explica aqui, a ciência. https://t.co/r1QfwMnnHd https://t.co/wqI3UcW8za\"\\n4,2022-10-29 13:37:48+00:00,https://twitter.com/onyxlorenzoni/status/1586351596606480384,onyxlorenzoni,\"No último debate, Eduardo Leite teve a cara de pau de dizer que era mentira que ele tinha proibido a venda de determinados produtos. Na CIÊNCIA dele, você não podia comprar coisas como garrafas térmicas... Mentiroso e insano. https://t.co/lxcSQSjLN4\"\\n5,2022-10-29 12:11:54+00:00,https://twitter.com/onyxlorenzoni/status/1586329982174830592,onyxlorenzoni,\"Quando eu falo da diferença entre servir e se servir, aí está um exemplo claro. Eduardo pediu aposentadoria com 37 anos, eu , quando tive a oportunidade, acabei com a crueldade da prova de vida para milhões de aposentados. A nossa diferença é essa. https://t.co/dMBuAoxDXf\"\\n6,2022-10-28 18:21:28+00:00,https://twitter.com/onyxlorenzoni/status/1586060597346635782,onyxlorenzoni,\"Tá circulando um vídeo feito por um rapaz que fez uma TOCAIA NO HOTEL para tentar me constranger.\\nQuebrou a cara com mais um factóide. Pode esperar, vai ter que responder por calúnia. https://t.co/3siZ2xRLya\"\\n7,2022-10-28 17:02:33+00:00,https://twitter.com/onyxlorenzoni/status/1586040738202411014,onyxlorenzoni,\"Enfrentei o PT e seus puxadinhos desde que chegaram à prefeitura de Porto Alegre, depois na Câmara Federal, e depois com @jairbolsonaro . EU TENHO LADO.\"\\n8,2022-10-28 17:00:28+00:00,https://twitter.com/onyxlorenzoni/status/1586040213511770114,onyxlorenzoni,\"Fui o primeiro deputado a caminhar ao lado de @jairbolsonaro e tive a honra de comandar 5 ministérios e em todos fiz entregas. O Rio Grande me deu a honra de ajudar na transformação do Brasil e agora, se o povo gaúcho me der a honra, vamos transformar o Rio Grande. EU TENHO LADO.\"\\n9,2022-10-28 13:03:50+00:00,https://twitter.com/onyxlorenzoni/status/1585980662938583049,onyxlorenzoni,\"Dia do servidor público.\\nMeu respeito a todos que dedicam sua vida a servir ao cidadão.\"\\n10,2022-10-28 02:59:30+00:00,https://twitter.com/onyxlorenzoni/status/1585828575889920000,onyxlorenzoni,Ele segue dizendo que não recebeu.... https://t.co/92vmMfsfRI\\n11,2022-10-28 02:26:01+00:00,https://twitter.com/onyxlorenzoni/status/1585820149692928001,onyxlorenzoni,👇 https://t.co/CKrnek9Ol0\\n12,2022-10-28 02:11:41+00:00,https://twitter.com/onyxlorenzoni/status/1585816541349969921,onyxlorenzoni,\"Em 2021, Eduardo Leite desviou 4,3 bilhões da Educação ao descumprir o art. 212, §7º, da Constituição Federal.\\nEm 2022, 11 milhões por dia continuam sendo desviados da educação das crianças, jovens e professores do Estado.\\nChega de descaso com a Educação dos Gaúchos! https://t.co/gjRMfoMkx7\"\\n13,2022-10-28 01:59:56+00:00,https://twitter.com/onyxlorenzoni/status/1585813584910508032,onyxlorenzoni,🤔 https://t.co/Rd2TjpwP8x\\n14,2022-10-28 01:35:46+00:00,https://twitter.com/onyxlorenzoni/status/1585807502201196545,onyxlorenzoni,\"Eduardo Leite é réu em processo de improbidade administrativa que tramita na 3a Câmara cível do TJ RS. Nas palavras do MP na inicial \"\" foi desonesto e desleal\"\". https://t.co/9AEYYD7bB5\"\\n15,2022-10-28 01:21:20+00:00,https://twitter.com/onyxlorenzoni/status/1585803869837152256,onyxlorenzoni,\"Leite omite que poderia ter renegociado a dívida do RS com a União, através do Plano de Equilíbrio Fiscal,\\xa0 em condições mais favoráveis e com validade por 4 anos, não por 30.\\nBasta consultar https://t.co/Ru1Pykgs2I\"\\n16,2022-10-28 01:20:30+00:00,https://twitter.com/onyxlorenzoni/status/1585803664114872320,onyxlorenzoni,\"Leite foi irresponsável ao negociar a dívida do Estado junto à União: Não discutiu o valor justo da dívida, pagou juros exorbitantes e renunciou à autonomia do Estado em gerir o caixa.\\nNos próximos 30 anos a dívida vai custar R$ 168 bilhões, cálculo que Leite nunca contestou.\"\\n17,2022-10-27 17:44:55+00:00,https://twitter.com/onyxlorenzoni/status/1585689011057840128,onyxlorenzoni,\"Honrado com esse apoio! \\nUm verdadeiro patriota, defensor da liberdade, que transforma a vida de muita gente. Obrigado, Luciano Hang! É 22! #tamojunto https://t.co/yHeLxijSsM\"\\n18,2022-10-26 20:18:27+00:00,https://twitter.com/onyxlorenzoni/status/1585365258885287936,onyxlorenzoni,\"Que vergonha, que deslealdade. Que se apure absolutamente tudo. É um escândalo sem precedentes o criminoso desequilíbrio nas inserções de rádio do Presidente @jairbolsonaro.\"\\n19,2022-10-26 20:15:57+00:00,https://twitter.com/onyxlorenzoni/status/1585364633707126784,onyxlorenzoni,\"Obrigado pelo carinho, obrigado pela presença, foi ótimo!   Eterna e querida ministra! https://t.co/W6uWzQfnBw\"\\n20,2022-10-26 11:43:10+00:00,https://twitter.com/onyxlorenzoni/status/1585235584653852674,onyxlorenzoni,\"Fizemos lá. Faremos no RS:\\n- Programa Gaúcho de Desburocratização, Simplificação e Revogação de Atos\\n- Programa de Serviço Civil Voluntário Gaúcho\\n- Plano de Desenvolvimento do Turismo e da Cultura\\n- Programa de Fomento à Cultura Tradicional Gaúcha\\n- Polos Tecnológicos Regionais\"\\n21,2022-10-26 11:43:09+00:00,https://twitter.com/onyxlorenzoni/status/1585235582183432192,onyxlorenzoni,\"Hoje, o Brasil tem seu maior número de pessoas com algum trabalho (formal ou informal) na História (mais de 101 milhões).\\n \\nRecorde histórico de brasileiros com trabalho formal: 42,8 milhões.\\n \\nSaldo de +6,1 milhões de empregos na retomada pós-pandemia (desde jul/2020)\"\\n22,2022-10-26 11:43:09+00:00,https://twitter.com/onyxlorenzoni/status/1585235579934953472,onyxlorenzoni,\"Em Brasília, com o @jairbolsonaro , nós fizemos:\\n \\n- Lei de Liberdade Econômica\\n- Reforma da Previdência\\n- Reduções históricas de impostos\\n- Programas emergenciais na Covid, preservando mais de 10 milhões de empresas\\n- Menor desemprego desde 2015 (grave crise do PT)\"\\n23,2022-10-26 00:55:57+00:00,https://twitter.com/onyxlorenzoni/status/1585072710203240448,onyxlorenzoni,Não dá pra ficar no muro. É mais que uma eleição. É uma escolha decisiva pela liberdade da nossa nação. https://t.co/ahnpfs2ukc\\n24,2022-10-25 20:13:42+00:00,https://twitter.com/onyxlorenzoni/status/1585001675865346050,onyxlorenzoni,\"O tamanho da divida que o ex-governador, que renunciou e agora que voltar, deixou para as futuras gerações. https://t.co/LLq0eK1x7p\"\\n25,2022-10-25 19:56:13+00:00,https://twitter.com/onyxlorenzoni/status/1584997278040748032,onyxlorenzoni,Exatamente. 👇 https://t.co/1iNECd3oC5\\n26,2022-10-25 17:45:00+00:00,https://twitter.com/onyxlorenzoni/status/1584964257250091008,onyxlorenzoni,\"Justiça Eleitoral recolhendo material IRREGULAR  da campanha de Eduardo Leite. A decisão está abaixo\\nhttps://t.co/aeR9BZTGa6 https://t.co/T354mEQfM7\"\\n27,2022-10-25 13:01:54+00:00,https://twitter.com/onyxlorenzoni/status/1584893010419908609,onyxlorenzoni,@amandamoraes500 Boa pergunta. Será que foram diálogos cabulosos?\\n28,2022-10-24 22:35:27+00:00,https://twitter.com/onyxlorenzoni/status/1584674962354638853,onyxlorenzoni,\"Hoje ficou ainda mais claro quem é quem. Nós nunca escondemos, porque temos convicção do melhor caminho. Quem vota Bolsonaro, vota Onyx! https://t.co/Q9HC1fh9Z0\"\\n29,2022-10-24 19:21:20+00:00,https://twitter.com/onyxlorenzoni/status/1584626112940113920,onyxlorenzoni,\"Não me surpreende que o candidato a vice adversário agora reposte a mesma coisa sem Paulo Freire. É tudo assim, por isso não assumem que estão com o PT, na esperança de enganar quem vota em Jair Bolsonaro. Não mudaram nada. https://t.co/yKfPbCUIB5\"\\n30,2022-10-24 14:02:27+00:00,https://twitter.com/onyxlorenzoni/status/1584545861890998272,onyxlorenzoni,\"O vice de Eduardo Leite publicou (e depois APAGOU) estas imagens em seu Instagram.\\n\\nPaulo Freire aparece, mestre dos petistas e da destruição da educação brasileira, que nos levou a índices educacionais vergonhosos, é inspiração para o governo de Eduardo Leite.\\n\\nIsso é grave! https://t.co/NZQRvoEPfs\"\\n31,2022-10-24 12:00:10+00:00,https://twitter.com/onyxlorenzoni/status/1584515086617837575,onyxlorenzoni,\"Estamos no ar no debate do Grupo Sinos.\\nAssista aqui:  https://t.co/Xdke3imQkd\"\\n32,2022-10-23 14:06:14+00:00,https://twitter.com/onyxlorenzoni/status/1584184424106631168,onyxlorenzoni,\"Um domingo abençoado a todos nós! \\n🎶 GRANDE É O SENHOR  🎶  @adhemardecampos\\n@niveasoares https://t.co/fZN6ElZWFX\"\\n33,2022-10-22 16:36:06+00:00,https://twitter.com/onyxlorenzoni/status/1583859753335549957,onyxlorenzoni,\"Dona Theresinha Ferreira (90 anos) e Dona Eugênia Goebel (99 anos).\\nNunca desistiram do nosso país. E seguem firme, lutando pela nossa liberdade.\\nDeus abençoe as tias do zap. https://t.co/AiBy0PW2NL\"\\n34,2022-10-22 12:18:31+00:00,https://twitter.com/onyxlorenzoni/status/1583794929519579136,onyxlorenzoni,\"@jairbolsonaro Parabéns presidente, e parabéns ao professor @CarlosNadalim. O graphogame é um sucesso.\"\\n35,2022-10-22 01:41:11+00:00,https://twitter.com/onyxlorenzoni/status/1583634538374500352,onyxlorenzoni,\"No SBT, o Presidente deu mais uma aula de coerência, defesa da liberdade, do Brasil e do povo brasileiro.  #Bolsonaro22\"\\n36,2022-10-22 00:43:26+00:00,https://twitter.com/onyxlorenzoni/status/1583620005832237057,onyxlorenzoni,@kimpaim 🇧🇷✌🏻 https://t.co/Zhwty77knW\\n37,2022-10-22 00:40:49+00:00,https://twitter.com/onyxlorenzoni/status/1583619347742093312,onyxlorenzoni,https://t.co/9a5sERhPyt\\n38,2022-10-21 22:52:12+00:00,https://twitter.com/onyxlorenzoni/status/1583592015727456256,onyxlorenzoni,@domlancellotti Bora!! 👊🏻🇧🇷\\n39,2022-10-21 20:17:05+00:00,https://twitter.com/onyxlorenzoni/status/1583552979537649665,onyxlorenzoni,\"Eduardo Leite só pensa no seu projeto de poder. Em 2018 pegou carona em Bolsonaro para se eleger, depois traiu o Presidente. Agora com o PT ao seu lado, mais uma vez, convenientemente, não tem coragem de assumir com quem está. É um vale tudo pelo voto. https://t.co/NNCFvqSUxo\"\\n40,2022-10-21 18:53:38+00:00,https://twitter.com/onyxlorenzoni/status/1583531976811651072,onyxlorenzoni,@CarlosBolsonaro @jairbolsonaro 🇧🇷💪 #Bolsonaro22\\n41,2022-10-21 13:08:15+00:00,https://twitter.com/onyxlorenzoni/status/1583445056194695168,onyxlorenzoni,@brom_elisa @jairbolsonaro @CarlosBolsonaro 👊🏻🇧🇷\\n42,2022-10-21 13:07:56+00:00,https://twitter.com/onyxlorenzoni/status/1583444976809422849,onyxlorenzoni,@amandamoraes500 @jairbolsonaro 👊🏻\\n43,2022-10-21 12:10:08+00:00,https://twitter.com/onyxlorenzoni/status/1583430432346976258,onyxlorenzoni,\"O PR @jairbolsonaro é o maior fenômeno político e eleitoral da História do Brasil e uma das figuras mais influentes nas redes sociais no mundo todo. Tudo isso passa decisivamente pelo trabalho de @CarlosBolsonaro. E eu fico extremamente honrado com este apoio. Valeu, Carluxo. 🇧🇷 https://t.co/EiOdFwEUgE\"\\n44,2022-10-20 23:24:34+00:00,https://twitter.com/onyxlorenzoni/status/1583237770403024896,onyxlorenzoni,@leo29winner @InteligenciaLta 💪\\n45,2022-10-20 23:14:02+00:00,https://twitter.com/onyxlorenzoni/status/1583235121863237632,onyxlorenzoni,\"1,4 milhão de pessoas assistindo ao Capitão do Povo no @InteligenciaLta. É nas ruas, na Internet, no coração dos brasileiros. O outro só \"\"ganha\"\" nas pesquisas.\"\\n46,2022-10-20 21:05:16+00:00,https://twitter.com/onyxlorenzoni/status/1583202714636341248,onyxlorenzoni,\"@SebastiaoMelo Prefeito, seja muito bem vindo! Assim como te disse pessoalmente, se for o escolhido, Porto Alegre e a região metropolitana terão no governo um grande parceiro. #tamojunto Porto Alegre!\"\\n47,2022-10-20 00:21:49+00:00,https://twitter.com/onyxlorenzoni/status/1582889790319767552,onyxlorenzoni,\"08. Com mais segurança no campo, com um verdadeiro e tão necessário Programa de Irrigação e com uma intensificação inédita das concessões de títulos de propriedade a famílias rurais, o Governo do Rio Grande do Sul vai, finalmente, tratar o campo com o devido RESPEITO\"\\n48,2022-10-20 00:21:48+00:00,https://twitter.com/onyxlorenzoni/status/1582889787999911937,onyxlorenzoni,\"07. E, assim como no Turismo, no Agro vamos incentivar as potencialidades regionais, com o desenvolvimento de culturas mais recentes, com as dos olivais. E com o Programa de Incentivo à Produção de Cereais de Inverno, estimulando esse importante setor.\"\\n49,2022-10-20 00:21:48+00:00,https://twitter.com/onyxlorenzoni/status/1582889786120937472,onyxlorenzoni,\"06. Também, assim como fizemos no Governo Bolsonaro, aqui no Rio Grande do Sul daremos uma especial e inédita atenção à segurança da família do campo, contra invasores e outros criminosos. Nossas Áreas Integradas de Segurança das regiões rurais terão papel fundamental nisso.\"\\n50,2022-10-20 00:21:47+00:00,https://twitter.com/onyxlorenzoni/status/1582889783587909632,onyxlorenzoni,\"05. Com o Programa de Manejo do Solo e da Água no RS e Programa Estadual de Irrigação, buscaremos resolver problemas históricos em nosso estado, que afetam profundamente os produtores rurais e, por consequência, toda a nossa economia.\"\\n51,2022-10-20 00:21:46+00:00,https://twitter.com/onyxlorenzoni/status/1582889779125186561,onyxlorenzoni,\"04. Esses números representam RESPEITO. O respeito de um governo pelo setor mais importante de nossa economia. \\n\\nE é com esse mesmo respeito, um respeito inédito ao homem e à mulher do campo, que trataremos os produtores rurais gaúchos. De todos os tamanhos. De todas as culturas.\"\\n52,2022-10-20 00:21:46+00:00,https://twitter.com/onyxlorenzoni/status/1582889777031880710,onyxlorenzoni,\"03. Em pouco mais de 3 anos, entregamos mais de 420 mil títulos de propriedade rural. Com o título, a família de produtores pode captar investimentos, crédito e assistência, crescendo livre das amarras do MST. Detalhe: em 14 anos, Lula e o PT entregaram apenas 276 mil títulos.\"\\n53,2022-10-20 00:21:45+00:00,https://twitter.com/onyxlorenzoni/status/1582889775169929217,onyxlorenzoni,\"02. Desde 2019, abrimos 90 novos mercados para o agro brasileiro. São novos mercados para nossos grãos, carnes, leite e derivados, insumos etc. Com isso, nossas exportações saltaram de R$ 68 bilhões em 2018 para R$ 82 bilhões em 2021.\"\\n54,2022-10-20 00:21:45+00:00,https://twitter.com/onyxlorenzoni/status/1582889773240180736,onyxlorenzoni,\"Antes de chegarmos no Governo Federal, o MST levava terror ao campo. Durante os governos do PT, foram quase 3 mil invasões de terra no Brasil. A média anual, com Lula e Dilma, era de 210 invasões. No Governo Bolsonaro, baixamos essa média para 11,7.\"\\n55,2022-10-19 19:23:33+00:00,https://twitter.com/onyxlorenzoni/status/1582814731685224448,onyxlorenzoni,\"A censura para sufocar a verdade e opiniões distintas daqueles que passam o dia criando narrativas mentirosas é inaceitável. Dia 30 é muito mais que uma eleição, é sobre liberdade. \\n#Bolsonaro22\"\\n56,2022-10-17 20:17:34+00:00,https://twitter.com/onyxlorenzoni/status/1582103548179140608,onyxlorenzoni,\"11. Também, pretendo criar no Rio Grande do Sul as Áreas Integradas de Segurança, propiciando operações efetivas e de inteligência, com os órgãos integrados em unidades regionais.\\n\\nAssim como no Brasil, no Rio Grande do Sul o crime vai deixar de compensar! 💀🇧🇷⚔️\"\\n57,2022-10-17 20:17:34+00:00,https://twitter.com/onyxlorenzoni/status/1582103546287489024,onyxlorenzoni,\"10. Além de valorizar, investir e respaldar as forças, procederemos com a recomposição do efetivo da Brigada Militar em +5 mil agentes. \\n\\nMas não basta tapar buraco: vamos também fazer um planejamento de longo prazo para concursos públicos em todos os órgãos de segurança.\"\\n58,2022-10-17 20:17:33+00:00,https://twitter.com/onyxlorenzoni/status/1582103544227766273,onyxlorenzoni,\"09. Além de afastar os presidiários das organizações criminosas, esses projetos proporcionarão produção de itens e alimentos, reduzindo, por exemplo, o custo do Estado com alimentação dos presidiários e merenda escolar – além criar oportunidades de trabalho após o fim da pena.\"\\n59,2022-10-17 20:17:33+00:00,https://twitter.com/onyxlorenzoni/status/1582103542336487426,onyxlorenzoni,\"08. Então, sim, queremos ressocializar os detentos, mas através do trabalho, do reencontro deles com o estímulo de ser útil, de servir para si e para os outros –com DIGNIDADE! Esses são os princípios dos Projetos de Ressocialização Baseados no Trabalho Prisional.\"\\n60,2022-10-17 20:17:32+00:00,https://twitter.com/onyxlorenzoni/status/1582103539702059009,onyxlorenzoni,07. Estas são as mesmas bases que manteremos no Governo do Rio Grande do Sul: investimento e respaldo às forças de segurança; e defesa do cidadão de bem e tratamento de bandido como bandido.\\n61,2022-10-17 20:17:32+00:00,https://twitter.com/onyxlorenzoni/status/1582103537705947136,onyxlorenzoni,\"06. Já no primeiro ano de Governo Bolsonaro, em 2019, conquistamos a maior queda percentual de homicídios da História: –19%.\\n\\nO Brasil tem hoje o menor número de assassinatos das últimas décadas: 41 mil (em 2021), sendo que nos tempos do PT caminhávamos para os 70 mil por ano.\"\\n62,2022-10-17 20:17:31+00:00,https://twitter.com/onyxlorenzoni/status/1582103535592026112,onyxlorenzoni,\"05. Então, além do \"\"diálogo cabuloso\"\", acabou para o crime também a vida fácil de quem podia massacrar uma população desarmada, enquanto as forças de segurança eram enfraquecidas e paralisadas.\\n\\nFoi assim que batemos todos os recordes de diminuição da violência no Brasil.\"\\n63,2022-10-17 20:17:31+00:00,https://twitter.com/onyxlorenzoni/status/1582103533578375169,onyxlorenzoni,\"04. Elevamos a média anual de apreensão de cocaína em 68%; já a média de apreensão de maconha subiu 134%. \\n\\nO crime não aguentará mais 4 anos de tantos prejuízos. Além de enfraquecer o tráfico, fortalecemos a autodefesa.\"\\n64,2022-10-17 20:17:30+00:00,https://twitter.com/onyxlorenzoni/status/1582103531649392641,onyxlorenzoni,\"03. Antes, policiais e demais agentes eram constrangidos por governantes que partiam de princípios absurdos, como \"\"bandido é vítima da sociedade\"\" e \"\"a polícia é opressora e fascista\"\". Com o Governo Bolsonaro isso acabou. E os resultados incontestáveis estão aí.\"\\n65,2022-10-17 20:17:30+00:00,https://twitter.com/onyxlorenzoni/status/1582103529724194816,onyxlorenzoni,\"02. Nos últimos 4 anos, voltamos a valorizar nossas forças de segurança, com pesados investimentos em equipamentos, armas, efetivo e condições de trabalho. \\n\\nRespaldamos as ações enérgicas de nossos agentes de segurança e voltamos a afirmar o óbvio: bandido é bandido, não vítima!\"\\n66,2022-10-17 20:17:29+00:00,https://twitter.com/onyxlorenzoni/status/1582103527723180033,onyxlorenzoni,\"O Governo Bolsonaro acabou com o \"\"diálogo cabuloso com o crime\"\", abalando seriamente as estruturas de uma das forças mais poderosas do Brasil. O tráfico não aguentará mais 4 anos de @jairbolsonaro, cujo trabalho na Segurança é a inspiração para o que faremos no Rio Grande do Sul.\"\\n67,2022-10-17 15:25:22+00:00,https://twitter.com/onyxlorenzoni/status/1582030013687562240,onyxlorenzoni,\"O amigo @tarcisiogdf e sua comitiva acabam de ser atacados em São Paulo, possivelmente por traficantes. Felizmente, está tudo bem. \\n\\nFicam nossas orações – e um questionamento: que tipo de político entra em área dominada pelo tráfico sem problemas? https://t.co/VSJfWDdmce\"\\n68,2022-10-17 10:24:12+00:00,https://twitter.com/onyxlorenzoni/status/1581954222551367680,onyxlorenzoni,\"Essa gente do Foro de São Paulo, os camaradas do Lula, odeiam a liberdade. E aqui no Brasil tem quem apoia essas barbaridades. https://t.co/9ohoedK1r4\"\\n69,2022-10-17 01:15:25+00:00,https://twitter.com/onyxlorenzoni/status/1581816114350153728,onyxlorenzoni,🇧🇷💪o Presidente @jairbolsonaro colocando as coisas no seu devido lugar. A diferença entre servir ao povo e se servir do povo. #tamojunto\\n70,2022-10-16 11:30:00+00:00,https://twitter.com/onyxlorenzoni/status/1581608392199704577,onyxlorenzoni,Um domingo abençoado a todos nós 🎶  TODAS AS COISAS 🎶 @fernandinho_br https://t.co/QWAn1zyVq6\\n71,2022-10-15 17:43:45+00:00,https://twitter.com/onyxlorenzoni/status/1581340064172212224,onyxlorenzoni,\"Muito obrigado pelo apoio, @Rconstantino. Sua manifestação vale demais para mim! Esse vídeo é de 2018, quando era conveniente .. Mas a gente sabe que tucano gosta é de vermelho... https://t.co/oAcBFwYAJG\"\\n72,2022-10-15 14:34:38+00:00,https://twitter.com/onyxlorenzoni/status/1581292471572578305,onyxlorenzoni,\"Faremos no Rio Grande do Sul o que começamos a fazer no Brasil: a substituição da ideologia e do conflito pelo diálogo e pelo conhecimento, a valorização dos professores e das famílias no ambiente escolar e o respeito do Estado pelo futuro\\xa0de\\xa0todos.\"\\n73,2022-10-15 14:34:38+00:00,https://twitter.com/onyxlorenzoni/status/1581292469416734720,onyxlorenzoni,\"E com a GRATIFICAÇÃO POR DESEMPENHO vamos valorizar de modo inédito os profissionais de educação do Rio Grande do Sul, seguindo o princípio de investir em quem cuida do\\xa0nosso\\xa0futuro.\"\\n74,2022-10-15 14:34:37+00:00,https://twitter.com/onyxlorenzoni/status/1581292467160514560,onyxlorenzoni,Vamos implantar o modelo de Escolas CÍVICO-MILITARES autofomentadas (geridas pelo Estado) em pelo menos 20% da Rede Estadual; e isso em integração com o projeto de reforma e modernização da infraestrutura escolar e com o objetivo de dobrar as escolas de\\xa0TEMPO\\xa0INTEGRAL.\\n75,2022-10-15 14:34:37+00:00,https://twitter.com/onyxlorenzoni/status/1581292464899772417,onyxlorenzoni,\"No Governo do Rio Grande do Sul, ao lado da minha vice, a PROFESSORA Claudinha, vamos estabelecer o Plano Estadual para a Primeira Infância, fortalecendo as políticas estaduais nessa áres em parceria com\\xa0os\\xa0municípios.\"\\n76,2022-10-15 14:34:36+00:00,https://twitter.com/onyxlorenzoni/status/1581292462575796225,onyxlorenzoni,\"Princípios de valorização do conhecimento e da preparação para a vida, para o futuro. De atenção real aos estudantes. De participação das famílias. E de valorização dos professores – que, no Governo Bolsonaro, receberam o maior reajuste da História no piso salarial\\xa0(33,24%).\"\\n77,2022-10-15 14:34:36+00:00,https://twitter.com/onyxlorenzoni/status/1581292460386693120,onyxlorenzoni,\"A renegociação que estabelecemos em 2021 beneficiou mais de 1 milhão de estudantes com descontos de até 92% do valor da dívida e mais de R$ 9 bilhões renegociados. Tudo de forma digital, sem necessidade de ir ao banco.\\n\\nEsses são os princípios que me guiarão no\\xa0Governo\\xa0do\\xa0RS.\"\\n78,2022-10-15 14:34:35+00:00,https://twitter.com/onyxlorenzoni/status/1581292458075254787,onyxlorenzoni,\"A renegociação das dívidas do FIES também veio para corrigir erros históricos. Mais da metade dos estudantes do FIES eram inadimplentes, pois o PT não tinha um plano sólido além de simplesmente conceder o benefício para\\xa0ganhar\\xa0votos.\"\\n79,2022-10-15 14:34:35+00:00,https://twitter.com/onyxlorenzoni/status/1581292455722303488,onyxlorenzoni,\"Diversos programas de apoio como o Tempo de Aprender, o Conta Pra Mim e a Alfabetização Baseada na Ciência instruem milhões de professores e pais e tiveram milhões de acessos na pandemia. \\n\\nMas fomos além: o ensino profissionalizante voltou a receber atenção\\xa0do\\xa0Governo.\"\\n80,2022-10-15 14:34:34+00:00,https://twitter.com/onyxlorenzoni/status/1581292453486743552,onyxlorenzoni,\"No Governo Bolsonaro, criamos a Secretaria Nacional de Alfabetização e instruímos famílias, professores, escolas, redes de ensino e poder público na Política Nacional de Alfabetização, para dar atenção especial\\xa0a\\xa0essa\\xa0área.\"\\n81,2022-10-15 14:34:33+00:00,https://twitter.com/onyxlorenzoni/status/1581292451125682181,onyxlorenzoni,\"A destruição que PSDB e PT fizeram no ensino brasileiro ficou escancarada em números como os índices do PISA e no endividamento de milhões de estudantes com o FIES, usado para vender falsas esperanças em um país com oportunidades\\xa0escassas.\"\\n82,2022-10-15 14:34:33+00:00,https://twitter.com/onyxlorenzoni/status/1581292448881311744,onyxlorenzoni,\"Foram abandonadas porque criança não vota. Foram destruídas pela omissão de tucanos e petistas, que dedicaram sua atenção a agir na destruição das mentes dos estudantes mais velhos, impondo ideologia programática e manipulando com recursos e verbas\\xa0universitárias.\"\\n83,2022-10-15 14:34:32+00:00,https://twitter.com/onyxlorenzoni/status/1581292446511923200,onyxlorenzoni,\"Leva tempo para se mudar os indicadores educacionais, assim como os sociais e econômicos – mas a transformação já começou. E começamos pelo óbvio: atenção especial à ALFABETIZAÇÃO e à Educação Infantil. Pode ser óbvio, mas essas áreas foram abandonadas pelo\\xa0PSDB\\xa0e\\xa0pelo\\xa0PT.\"\\n84,2022-10-15 14:34:32+00:00,https://twitter.com/onyxlorenzoni/status/1581292444096028672,onyxlorenzoni,\"O PISA 2018 avaliou alunos de 79 países; o Brasil ficou em 57° lugar em leitura, 66° em ciências e em 70° em matemática. Nada disso é por acaso. Foram quase três décadas de abandono da alfabetização e  negligência das crianças, em nome de políticas ideológicas\\xa0e\\xa0militantes.\"\\n85,2022-10-15 14:34:31+00:00,https://twitter.com/onyxlorenzoni/status/1581292441818185728,onyxlorenzoni,\"Quando começamos o Governo Bolsonaro, em janeiro de 2019, encontramos uma Educação destruída. Os vergonhosos índices do Brasil no Programa Internacional de Avaliação de Estudantes (PISA) após 30 anos de esquerda não deixam dúvidas sobre o erro em que nosso\\xa0país\\xa0vivia.\"\\n86,2022-10-15 14:34:31+00:00,https://twitter.com/onyxlorenzoni/status/1581292439553249280,onyxlorenzoni,\"O Rio Grande fará este ano o mesmo que o Brasil fez em 2018: eleger um projeto de TRANSFORMAÇÃO, de inversão de lógicas falidas e rompimento de círculos viciosos. E uma das áreas em que isso é mais urgente é a EDUCAÇÃO. É sobre isso que falamos neste Dia dos\\xa0Professores.\"\\n87,2022-10-15 00:03:55+00:00,https://twitter.com/onyxlorenzoni/status/1581073345017106432,onyxlorenzoni,@rdlorenzoni Surpresa seria acertar alguma.\\n88,2022-10-14 22:45:06+00:00,https://twitter.com/onyxlorenzoni/status/1581053511294279680,onyxlorenzoni,\"No Governo Bolsonaro, fizemos a maior entrega de títulos de propriedade da história. Dos mais de 400 mil documentos, 75% foram entregues para mulheres. \\n\\nCom o Minha Casa Gaúcha, vamos agilizar aqui no Rio Grande e dar tranquilidade e segurança para milhares de famílias gauchas!\"\\n89,2022-10-14 16:11:05+00:00,https://twitter.com/onyxlorenzoni/status/1580954356358483969,onyxlorenzoni,\"Quis Deus que eu participasse ativamente da retomada do desenvolvimento, do emprego, dos investimentos e da confiança do Brasil – mesmo com uma pandemia e outros problemas externos no meio do caminho. E, se Deus e os gaúchos quiserem, ajudarei o Rio Grande em\\xa0sua\\xa0retomada.\"\\n90,2022-10-14 16:11:05+00:00,https://twitter.com/onyxlorenzoni/status/1580954354135494656,onyxlorenzoni,\"Para explorar as inúmeras potencialidades do Rio Grande do Sul, temos o Plano de Desenvolvimento do Turismo e da Cultura, o Programa de Fomento à Cultura Tradicional Gaúcha e os Polos Tecnológicos Regionais.\\n\\nEstas são apenas alguns exemplos de projetos que temos\\xa0para\\xa0o\\xa0RS.\"\\n91,2022-10-14 16:11:04+00:00,https://twitter.com/onyxlorenzoni/status/1580954351647924225,onyxlorenzoni,\"Com o Programa de Serviço Civil Voluntário Gaúcho, faremos parcerias com as prefeituras ampliando a contratação de jovens (18 a 29 anos) e pessoas acima de 50 anos, em regime de meio turno, oferecendo oportunidades para faixas etárias que encontram dificuldades\\xa0no\\xa0mercado.\"\\n92,2022-10-14 16:11:04+00:00,https://twitter.com/onyxlorenzoni/status/1580954349269762049,onyxlorenzoni,\"Com o Programa Gaúcho de Desburocratização, Revogação e Simplificação de Atos, faremos uma grande revisão das normas e regulações de mercados, buscando incentivar a criação e o crescimento de empresas, com captação de investimentos e consequente geração\\xa0de\\xa0empregos.\"\\n93,2022-10-14 16:11:03+00:00,https://twitter.com/onyxlorenzoni/status/1580954346933858305,onyxlorenzoni,E com os programas de estímulo à economia que implementamos ajudamos o Brasil a ser destaque mundial de retomada pós-pandemia. Essas ações e esses programas são inspiração e parâmetro para a profunda transformação que faremos nos nosso Rio\\xa0Grande\\xa0do\\xa0Sul.\\n94,2022-10-14 16:11:03+00:00,https://twitter.com/onyxlorenzoni/status/1580954344597307393,onyxlorenzoni,\"E foi no Ministério do Trabalho que pude atuar fortemente na retomada do emprego, após a pandemia e o insano fecha-tudo protagonizado por demagogos como Eduardo Leite. Com o PR @jairbolsonaro, trabalhei pelo funcionamento (com cuidado e responsabilidade) de todos\\xa0os\\xa0negócios.\"\\n95,2022-10-14 16:11:02+00:00,https://twitter.com/onyxlorenzoni/status/1580954341799694339,onyxlorenzoni,\"No Ministério da Cidadania, participei ativamente dos programas de socorro às empresas e aos trabalhadores. Em poucos dias, colocamos em operação o maior programa assistencial que o mundo já viu: o Auxílio Emergencial, que evitou a fome de dezenas de milhões\\xa0de\\xa0brasileiros.\"\\n96,2022-10-14 16:11:01+00:00,https://twitter.com/onyxlorenzoni/status/1580954339274682368,onyxlorenzoni,\"Na Casa Civil, comandei a histórica Reforma da Previdência, esperada por décadas, após sucessivos governos; a Lei de Liberdade Econômica, que desburocratiza e gera empregos; e a extinção de mais de 64 mil cargos e funções, garantindo o salário em dia do\\xa0funcionalismo.\"\\n97,2022-10-14 16:11:01+00:00,https://twitter.com/onyxlorenzoni/status/1580954336850370560,onyxlorenzoni,\"O Brasil tem hoje o menor desemprego desde a histórica crise do PT (2015) e o maior número de brasileiros trabalhando na História. Sem inflação, estamos recuperando o poder de compra. Tudo isso com uma pandemia e uma guerra no meio do caminho. E eu tive a honra de\\xa0participar.\\xa0⤵\"\\n98,2022-10-14 14:07:01+00:00,https://twitter.com/onyxlorenzoni/status/1580923133024178176,onyxlorenzoni,@Rconstantino Obrigado Rodrigo.🇧🇷\\n99,2022-10-13 21:56:02+00:00,https://twitter.com/onyxlorenzoni/status/1580678775930494977,onyxlorenzoni,\"Mais uma vez estão mentindo para o povo gaúcho. Mais uma vez subestimam a inteligência dos gaúchos. Alguns tem dificuldades de lidar com pessoas de verdade.\\nNós não vamos perder o foco. Nossa missão é transformar o Rio Grande para melhorar a vida dos gaúchos. #Onyx22 https://t.co/MmGNZFf41C\"\\n100,2022-10-12 19:29:45+00:00,https://twitter.com/onyxlorenzoni/status/1580279576936136704,onyxlorenzoni,Feliz Dias das Crianças! https://t.co/y78mhfRNN0\\n'"
            ],
            "application/vnd.google.colaboratory.intrinsic+json": {
              "type": "string"
            }
          },
          "metadata": {},
          "execution_count": 53
        }
      ]
    },
    {
      "cell_type": "code",
      "source": [
        "import csv\n",
        "import nltk\n",
        "from nltk.tokenize import word_tokenize \n",
        "from wordcloud import WordCloud\n",
        "import numpy as np\n",
        "from PIL import Image\n",
        "import matplotlib.pyplot as plt"
      ],
      "metadata": {
        "id": "tg_fazXiXS1K"
      },
      "execution_count": 54,
      "outputs": []
    },
    {
      "cell_type": "code",
      "source": [
        "nltk.download('punkt')\n",
        "nltk.download('stopwords')"
      ],
      "metadata": {
        "colab": {
          "base_uri": "https://localhost:8080/"
        },
        "id": "JZ7qxoR0Zfdj",
        "outputId": "db89b69a-0c0a-4404-f4d2-a54bbe99e590"
      },
      "execution_count": 55,
      "outputs": [
        {
          "output_type": "stream",
          "name": "stderr",
          "text": [
            "[nltk_data] Downloading package punkt to /root/nltk_data...\n",
            "[nltk_data]   Package punkt is already up-to-date!\n",
            "[nltk_data] Downloading package stopwords to /root/nltk_data...\n",
            "[nltk_data]   Package stopwords is already up-to-date!\n"
          ]
        },
        {
          "output_type": "execute_result",
          "data": {
            "text/plain": [
              "True"
            ]
          },
          "metadata": {},
          "execution_count": 55
        }
      ]
    },
    {
      "cell_type": "code",
      "source": [
        "stop_words = nltk.corpus.stopwords.words('portuguese')\n",
        "stop_words = stop_words + list([ ',','.','https', ':','!', '#', '@', '?', '/', 'O', 'vai', '|', '–','pra', 'a', 'e', '-'])"
      ],
      "metadata": {
        "id": "5YXDHPRRZhqL"
      },
      "execution_count": 56,
      "outputs": []
    },
    {
      "cell_type": "code",
      "source": [
        "def remove_stopwords(x):\n",
        "  word_tokens = nltk.word_tokenize(x)\n",
        "  # print(word_tokens)\n",
        "  filtered_sentence = ' '.join([w for w in word_tokens if not (w in stop_words or len(w)<4)]) \n",
        "  return filtered_sentence"
      ],
      "metadata": {
        "id": "B33ZavGYaQpx"
      },
      "execution_count": 57,
      "outputs": []
    },
    {
      "cell_type": "code",
      "source": [
        "tweets_df['filtered_text'] = tweets_df['content'].apply(lambda x: remove_stopwords(x))"
      ],
      "metadata": {
        "id": "yAGaVvlZanXC"
      },
      "execution_count": 58,
      "outputs": []
    },
    {
      "cell_type": "code",
      "source": [
        "tweets_df['filtered_text']"
      ],
      "metadata": {
        "colab": {
          "base_uri": "https://localhost:8080/"
        },
        "id": "vNmMZ6LCatS6",
        "outputId": "a04445f8-f367-4416-d170-e516588a728c"
      },
      "execution_count": 59,
      "outputs": [
        {
          "output_type": "execute_result",
          "data": {
            "text/plain": [
              "0      Parcão verde amarelo arrepiar Valeu Porto Aleg...\n",
              "1      nikolas_dm Obrigado amigo tamojunto vais decis...\n",
              "2      Porto Alegre verde-amarelo Brasil transformar ...\n",
              "3      sobre garrafa térmica Eduardo sobre cerceament...\n",
              "4      último debate Eduardo Leite cara dizer mentira...\n",
              "                             ...                        \n",
              "96     Casa Civil comandei histórica Reforma Previdên...\n",
              "97     Brasil hoje menor desemprego desde histórica c...\n",
              "98                      Rconstantino Obrigado Rodrigo.🇧🇷\n",
              "99     Mais mentindo povo gaúcho Mais subestimam inte...\n",
              "100                Feliz Dias Crianças //t.co/y78mhfRNN0\n",
              "Name: filtered_text, Length: 101, dtype: object"
            ]
          },
          "metadata": {},
          "execution_count": 59
        }
      ]
    },
    {
      "cell_type": "code",
      "source": [
        "top20WordOnyx = pd.Series(' '.join(tweets_df['filtered_text'].str.lower()).split()).value_counts()[:20]\n",
        "top20WordOnyx.to_csv('top20WordOnyx', sep='\\t')\n",
        "top20WordOnyx"
      ],
      "metadata": {
        "colab": {
          "base_uri": "https://localhost:8080/"
        },
        "id": "rxHrggX-a-pi",
        "outputId": "e31da267-3ea0-4b5d-93bd-bdd1b4d88dd2"
      },
      "execution_count": 60,
      "outputs": [
        {
          "output_type": "execute_result",
          "data": {
            "text/plain": [
              "grande           22\n",
              "brasil           20\n",
              "governo          18\n",
              "anos             13\n",
              "leite            12\n",
              "bolsonaro        12\n",
              "jairbolsonaro    12\n",
              "programa         12\n",
              "segurança        11\n",
              "milhões          10\n",
              "eduardo          10\n",
              "trabalho          9\n",
              "todos             9\n",
              "liberdade         8\n",
              "vamos             8\n",
              "educação          8\n",
              "assim             7\n",
              "tudo              7\n",
              "maior             7\n",
              "estado            7\n",
              "dtype: int64"
            ]
          },
          "metadata": {},
          "execution_count": 60
        }
      ]
    },
    {
      "cell_type": "code",
      "source": [],
      "metadata": {
        "id": "3nkqU9enbQg8"
      },
      "execution_count": 60,
      "outputs": []
    }
  ]
}